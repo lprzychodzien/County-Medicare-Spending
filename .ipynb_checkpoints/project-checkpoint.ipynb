{
 "cells": [
  {
   "cell_type": "markdown",
   "metadata": {},
   "source": [
    "# Forecasting Medicare Spending at the County level\n",
    "\n",
    "Forecasting Medicare spending in 2014 using data from 2007 - 2012\n",
    "https://github.com/brendan-drew/County-Medicare-Spending\n",
    "\n",
    "## Hypothesis\n",
    "How much do diabetics drive Medicare spending?"
   ]
  },
  {
   "cell_type": "code",
   "execution_count": 43,
   "metadata": {},
   "outputs": [],
   "source": [
    "import pandas as pd\n",
    "import numpy as np\n",
    "import os\n",
    "import matplotlib.pyplot as plt\n",
    "import seaborn as sns\n",
    "import scipy.stats as scs\n",
    "\n",
    "from sklearn.linear_model import LinearRegression\n",
    "from sklearn.model_selection import KFold\n",
    "from sklearn.model_selection import train_test_split\n",
    "from sklearn.model_selection import cross_val_score\n",
    "from sklearn.metrics import mean_squared_error, r2_score\n",
    "\n",
    "import statsmodels.api as sm\n",
    "import statsmodels.formula.api as smf\n",
    "\n",
    "from src.import_raw_data import load_medicare_spending,load_pc_access\n",
    "\n",
    "from IPython.display import display\n",
    "pd.options.display.max_columns = None"
   ]
  },
  {
   "cell_type": "code",
   "execution_count": 2,
   "metadata": {},
   "outputs": [],
   "source": [
    "#DataFrame with primary care access data from the Dartmouth Institute from 2003 - 2015 with a main focus on diabetics\n",
    "#Only select 2008 to 2014 data for consistency purposes\n",
    "pc = load_pc_access()\n",
    "pc = pc.astype({'year':'int',})\n",
    "pc = pc[(pc.year>2007) & (pc.year<2015)]\n",
    "\n",
    "#Dataframe with detailed Medicare benificiary demographic/utilization\n",
    "#Only select 2008 to 2014 data for consistency purposes\n",
    "dfclean = pd.read_csv('data/medicare_county_level/cleaned_medicare_county_all.csv')\n",
    "dfclean = dfclean.astype({'year':'int'})\n",
    "dfclean = dfclean[dfclean.year>2007]\n",
    "\n",
    "#DataFrame with Medicare Spending Data from the Dartmouth Institute from 2003-2015\n",
    "#Only select 2008 to 2014 data for consistency purposes\n",
    "mcspend = load_medicare_spending()\n",
    "mcspend = mcspend.astype({'year':'int'})\n",
    "mcspend = mcspend[(mcspend.year>2007) & (mcspend.year<2015)]\n",
    "\n",
    "#Join the point of care and spend data for analysis\n",
    "jn = pc.merge(mcspend.drop(columns =['medicare_enrollees','state','county_excl_state']),on=['county_id','county_name','year'],how='left')\n",
    "jn = jn.apply(pd.to_numeric,errors='ignore')\n"
   ]
  },
  {
   "cell_type": "markdown",
   "metadata": {},
   "source": [
    "#Remove racial destinction information and non-int data from joined dataframe\n",
    "jns = jn[['county_id', 'medicare_enrollees',\n",
    "       'rate_one_ambulatory_visit', 'diabetic_enrollees',\n",
    "       'diabetic_pts_a1c', 'eye_exam', 'diabetic_pts_lipids', 'female_enrollees', 'beneficiaries_100_part_A',\n",
    "       'leg_amputations', 'discharges_amb_sensitive', 'year', 'total_reimb',\n",
    "       'total_reimb_price_adj', 'hospital_snf_reimb',\n",
    "       'hospital_snf_reimb_price_adj', 'physician_reimb',\n",
    "       'physician_reimb_price_adj', 'outpatient_reimb',\n",
    "       'outpatient_reimb_price_adj', 'home_health_reimb',\n",
    "       'home_health_reimb_price_adj', 'dme_reimb', 'dme_reimb_price_adj']]\n",
    "logjns = jns.apply(np.log)"
   ]
  },
  {
   "cell_type": "markdown",
   "metadata": {},
   "source": [
    "sm = pd.plotting.scatter_matrix(logjns,figsize=[20,20])\n",
    "#Change label rotation\n",
    "[s.xaxis.label.set_rotation(45) for s in sm.reshape(-1)]\n",
    "[s.yaxis.label.set_rotation(0) for s in sm.reshape(-1)]\n",
    "\n",
    "#May need to offset label when rotating to prevent overlap of figure\n",
    "[s.get_yaxis().set_label_coords(-0.3,0.5) for s in sm.reshape(-1)]\n",
    "\n",
    "#Hide all ticks\n",
    "[s.set_xticks(()) for s in sm.reshape(-1)]\n",
    "[s.set_yticks(()) for s in sm.reshape(-1)]\n",
    "\n",
    "plt.show()"
   ]
  },
  {
   "cell_type": "markdown",
   "metadata": {},
   "source": [
    "## Diabetics influence on Medicare spend\n",
    "How much does diabetic population care drive total reimbursement? "
   ]
  },
  {
   "cell_type": "code",
   "execution_count": 5,
   "metadata": {},
   "outputs": [],
   "source": [
    "diab = jn[['county_id', 'medicare_enrollees',\n",
    "       'black_medicare_enrollees', 'white_medicare_enrollees',\n",
    "       'rate_one_ambulatory_visit', 'diabetic_enrollees',\n",
    "       'black_diabetic_enrollees', 'white_diabetic_enrollees',\n",
    "       'diabetic_pts_a1c', 'diabetic_pts_a1c_black',\n",
    "       'diabetic_pts_a1c_white', 'eye_exam', 'eye_exam_black', 'eye_exam_white', 'diabetic_pts_lipids',\n",
    "       'diabetic_pts_lipids_black', 'diabetic_pts_lipids_white', 'female_enrollees',\n",
    "       'female_enrollees_black', 'female_enrollees_white', 'beneficiaries_100_part_A',\n",
    "       'beneficiaries_100_part_A_black', 'beneficiaries_100_part_A_white',\n",
    "       'leg_amputations', 'leg_amputations_black',\n",
    "       'leg_amputations_white', 'discharges_amb_sensitive', 'discharges_amb_sensitive_black',\n",
    "       'discharges_amb_sensitive_white','year', 'total_reimb',\n",
    "       'total_reimb_price_adj', 'hospital_snf_reimb',\n",
    "       'hospital_snf_reimb_price_adj', 'physician_reimb',\n",
    "       'physician_reimb_price_adj', 'outpatient_reimb',\n",
    "       'outpatient_reimb_price_adj', 'home_health_reimb',\n",
    "       'home_health_reimb_price_adj', 'hospice_reimb',\n",
    "       'hospice_reimb_price_adj', 'dme_reimb', 'dme_reimb_price_adj']]"
   ]
  },
  {
   "cell_type": "code",
   "execution_count": 11,
   "metadata": {},
   "outputs": [
    {
     "data": {
      "text/plain": [
       "21963"
      ]
     },
     "execution_count": 11,
     "metadata": {},
     "output_type": "execute_result"
    }
   ],
   "source": [
    "len(diab)"
   ]
  },
  {
   "cell_type": "code",
   "execution_count": 46,
   "metadata": {},
   "outputs": [
    {
     "data": {
      "text/plain": [
       "county_id                             0\n",
       "medicare_enrollees                    9\n",
       "black_medicare_enrollees          11210\n",
       "white_medicare_enrollees           8526\n",
       "rate_one_ambulatory_visit            21\n",
       "diabetic_enrollees                  319\n",
       "black_diabetic_enrollees          12598\n",
       "white_diabetic_enrollees           6611\n",
       "diabetic_pts_a1c                    319\n",
       "diabetic_pts_a1c_black            12598\n",
       "diabetic_pts_a1c_white             6611\n",
       "eye_exam                            413\n",
       "eye_exam_black                    13248\n",
       "eye_exam_white                     7343\n",
       "diabetic_pts_lipids                 381\n",
       "diabetic_pts_lipids_black         12822\n",
       "diabetic_pts_lipids_white          6893\n",
       "female_enrollees                    647\n",
       "female_enrollees_black            15450\n",
       "female_enrollees_white             8306\n",
       "beneficiaries_100_part_A              5\n",
       "beneficiaries_100_part_A_black     4985\n",
       "beneficiaries_100_part_A_white        5\n",
       "leg_amputations                   19636\n",
       "leg_amputations_black             21561\n",
       "leg_amputations_white             21533\n",
       "discharges_amb_sensitive            627\n",
       "discharges_amb_sensitive_black    14955\n",
       "discharges_amb_sensitive_white    12484\n",
       "year                                  0\n",
       "total_reimb                        2435\n",
       "total_reimb_price_adj              2435\n",
       "hospital_snf_reimb                 2435\n",
       "hospital_snf_reimb_price_adj       2435\n",
       "physician_reimb                    2435\n",
       "physician_reimb_price_adj          2435\n",
       "outpatient_reimb                   2435\n",
       "outpatient_reimb_price_adj         2435\n",
       "home_health_reimb                  2534\n",
       "home_health_reimb_price_adj        2534\n",
       "hospice_reimb                      4998\n",
       "hospice_reimb_price_adj            4998\n",
       "dme_reimb                          2435\n",
       "dme_reimb_price_adj                2435\n",
       "dtype: int64"
      ]
     },
     "execution_count": 46,
     "metadata": {},
     "output_type": "execute_result"
    }
   ],
   "source": [
    "diab.isna().sum()"
   ]
  },
  {
   "cell_type": "code",
   "execution_count": 12,
   "metadata": {},
   "outputs": [],
   "source": [
    "diabdrop = diab.dropna()"
   ]
  },
  {
   "cell_type": "code",
   "execution_count": 41,
   "metadata": {},
   "outputs": [
    {
     "data": {
      "text/plain": [
       "382"
      ]
     },
     "execution_count": 41,
     "metadata": {},
     "output_type": "execute_result"
    }
   ],
   "source": [
    "len(diabdrop)"
   ]
  },
  {
   "cell_type": "code",
   "execution_count": 29,
   "metadata": {},
   "outputs": [
    {
     "name": "stdout",
     "output_type": "stream",
     "text": [
      "0.9977   :   hospital_snf_reimb\n",
      "0.9975   :   hospital_snf_reimb_price_adj\n",
      "0.9916   :   physician_reimb\n",
      "0.9930   :   physician_reimb_price_adj\n",
      "0.9659   :   outpatient_reimb\n",
      "0.9636   :   outpatient_reimb_price_adj\n",
      "0.9269   :   home_health_reimb\n",
      "0.9282   :   home_health_reimb_price_adj\n",
      "0.9393   :   hospice_reimb\n",
      "0.9374   :   hospice_reimb_price_adj\n",
      "0.9735   :   dme_reimb\n",
      "0.9765   :   dme_reimb_price_adj\n"
     ]
    }
   ],
   "source": [
    "recolumns = ['hospital_snf_reimb',\n",
    "       'hospital_snf_reimb_price_adj', 'physician_reimb',\n",
    "       'physician_reimb_price_adj', 'outpatient_reimb',\n",
    "       'outpatient_reimb_price_adj', 'home_health_reimb',\n",
    "       'home_health_reimb_price_adj', 'hospice_reimb',\n",
    "       'hospice_reimb_price_adj', 'dme_reimb', 'dme_reimb_price_adj']\n",
    "\n",
    "X = diabdrop.drop(columns=recolumns)\n",
    "\n",
    "for col in recolumns:  \n",
    "    Y = diabdrop[col]\n",
    "    sm.add_constant(X)\n",
    "    model = sm.OLS(Y,X)\n",
    "    results = model.fit()\n",
    "    print(\"%.4f\" % results.rsquared,\"  :  \",col)"
   ]
  },
  {
   "cell_type": "code",
   "execution_count": 19,
   "metadata": {},
   "outputs": [
    {
     "data": {
      "text/plain": [
       "Text(0,0.5,'Studentized Residuals')"
      ]
     },
     "execution_count": 19,
     "metadata": {},
     "output_type": "execute_result"
    },
    {
     "data": {
      "image/png": "[encoded data removed]",
      "text/plain": [
       "<Figure size 432x288 with 1 Axes>"
      ]
     },
     "metadata": {},
     "output_type": "display_data"
    }
   ],
   "source": [
    "student_resid = results.outlier_test()['student_resid']\n",
    "plt.scatter(results.fittedvalues, student_resid)\n",
    "plt.xlabel('Fitted values')\n",
    "plt.ylabel('Studentized Residuals')"
   ]
  },
  {
   "cell_type": "code",
   "execution_count": 21,
   "metadata": {},
   "outputs": [
    {
     "data": {
      "image/png": "[encoded data removed]",
      "text/plain": [
       "<Figure size 432x288 with 1 Axes>"
      ]
     },
     "metadata": {},
     "output_type": "display_data"
    }
   ],
   "source": [
    "sm.graphics.qqplot(student_resid, line='45', fit=True)\n",
    "plt.show()"
   ]
  },
  {
   "cell_type": "code",
   "execution_count": 39,
   "metadata": {},
   "outputs": [
    {
     "name": "stdout",
     "output_type": "stream",
     "text": [
      "Results for :  hospital_snf_reimb\n",
      "MSE for training set  59735.658046092576\n",
      "MSE for test set  346121.0540002973\n",
      " \n",
      "Results for :  hospital_snf_reimb_price_adj\n",
      "MSE for training set  56745.81336328813\n",
      "MSE for test set  178512.82407616582\n",
      " \n",
      "Results for :  physician_reimb\n",
      "MSE for training set  66945.55057789209\n",
      "MSE for test set  178449.5495183524\n",
      " \n",
      "Results for :  physician_reimb_price_adj\n",
      "MSE for training set  53978.74453393697\n",
      "MSE for test set  100469.00065891464\n",
      " \n",
      "Results for :  outpatient_reimb\n",
      "MSE for training set  42990.16912417887\n",
      "MSE for test set  59111.99900876036\n",
      " \n",
      "Results for :  outpatient_reimb_price_adj\n",
      "MSE for training set  36058.120013205866\n",
      "MSE for test set  184666.46590721127\n",
      " \n",
      "Results for :  home_health_reimb\n",
      "MSE for training set  28267.803588364077\n",
      "MSE for test set  49181.147696328444\n",
      " \n",
      "Results for :  home_health_reimb_price_adj\n",
      "MSE for training set  28857.539354849156\n",
      "MSE for test set  88103.97676055307\n",
      " \n",
      "Results for :  hospice_reimb\n",
      "MSE for training set  8690.543584121622\n",
      "MSE for test set  11272.655742665193\n",
      " \n",
      "Results for :  hospice_reimb_price_adj\n",
      "MSE for training set  8560.41687400196\n",
      "MSE for test set  10814.072875713677\n",
      " \n",
      "Results for :  dme_reimb\n",
      "MSE for training set  952.7939340743611\n",
      "MSE for test set  1060.4369529091816\n",
      " \n",
      "Results for :  dme_reimb_price_adj\n",
      "MSE for training set  747.7431218732918\n",
      "MSE for test set  8921.785069124428\n",
      " \n"
     ]
    }
   ],
   "source": [
    "linear = LinearRegression()\n",
    "\n",
    "for col in recolumns:\n",
    "    Y = diabdrop[col]\n",
    "    X_train, X_test, y_train, y_test = train_test_split(X, Y, test_size=0.25)\n",
    "\n",
    "    # Fit your model using the training set\n",
    "    linear.fit(X_train, y_train)\n",
    "\n",
    "    # Call predict to get the predicted values for training and test set\n",
    "    train_predicted = linear.predict(X_train)\n",
    "    test_predicted = linear.predict(X_test)\n",
    "\n",
    "    # Calculate RMSE for training and test set\n",
    "    print('Results for : ',col)\n",
    "    print('MSE for training set ', mean_squared_error(y_train, train_predicted))\n",
    "    print('MSE for test set ', mean_squared_error(y_test, test_predicted))\n",
    "    print(' ')"
   ]
  },
  {
   "cell_type": "code",
   "execution_count": null,
   "metadata": {},
   "outputs": [],
   "source": []
  },
  {
   "cell_type": "markdown",
   "metadata": {},
   "source": [
    "### Log of X and Y values"
   ]
  },
  {
   "cell_type": "code",
   "execution_count": 36,
   "metadata": {},
   "outputs": [
    {
     "name": "stdout",
     "output_type": "stream",
     "text": [
      "1.0000   :   hospital_snf_reimb\n",
      "1.0000   :   hospital_snf_reimb_price_adj\n",
      "1.0000   :   physician_reimb\n",
      "1.0000   :   physician_reimb_price_adj\n",
      "0.9997   :   outpatient_reimb\n",
      "0.9997   :   outpatient_reimb_price_adj\n",
      "0.9993   :   home_health_reimb\n",
      "0.9994   :   home_health_reimb_price_adj\n",
      "0.9988   :   hospice_reimb\n",
      "0.9988   :   hospice_reimb_price_adj\n",
      "0.9995   :   dme_reimb\n",
      "0.9996   :   dme_reimb_price_adj\n"
     ]
    }
   ],
   "source": [
    "logdiabdrop = diabdrop.apply(np.log)\n",
    "logdiabdrop = logdiabdrop.dropna()\n",
    "\n",
    "recolumns = ['hospital_snf_reimb',\n",
    "       'hospital_snf_reimb_price_adj', 'physician_reimb',\n",
    "       'physician_reimb_price_adj', 'outpatient_reimb',\n",
    "       'outpatient_reimb_price_adj', 'home_health_reimb',\n",
    "       'home_health_reimb_price_adj', 'hospice_reimb',\n",
    "       'hospice_reimb_price_adj', 'dme_reimb', 'dme_reimb_price_adj']\n",
    "\n",
    "logX = logdiabdrop.drop(columns=recolumns)\n",
    "for col in recolumns:\n",
    "    logY = logdiabdrop[col]\n",
    "    sm.add_constant(logX)\n",
    "    model = sm.OLS(logY,logX)\n",
    "    results = model.fit()\n",
    "    print(\"%.4f\" % results.rsquared,\"  :  \",col)"
   ]
  },
  {
   "cell_type": "code",
   "execution_count": 47,
   "metadata": {},
   "outputs": [
    {
     "name": "stdout",
     "output_type": "stream",
     "text": [
      "Results for :  hospital_snf_reimb\n",
      "MSE for training set  0.0009247359534009578\n",
      "MSE for test set  0.0014423852807612563\n",
      "R2 Score  0.9537421028423958\n",
      " \n",
      "Results for :  hospital_snf_reimb_price_adj\n",
      "MSE for training set  0.0010613412077841561\n",
      "MSE for test set  0.00415794131574468\n",
      "R2 Score  0.6829423103000538\n",
      " \n",
      "Results for :  physician_reimb\n",
      "MSE for training set  0.002453881329064035\n",
      "MSE for test set  0.006499474803404945\n",
      "R2 Score  0.8565278886877516\n",
      " \n",
      "Results for :  physician_reimb_price_adj\n",
      "MSE for training set  0.002689266581703431\n",
      "MSE for test set  0.005261255559168763\n",
      "R2 Score  0.8387464986459543\n",
      " \n",
      "Results for :  outpatient_reimb\n",
      "MSE for training set  0.010456282092232162\n",
      "MSE for test set  0.015285999891909872\n",
      "R2 Score  0.688945415047819\n",
      " \n",
      "Results for :  outpatient_reimb_price_adj\n",
      "MSE for training set  0.011791071301435448\n",
      "MSE for test set  0.020743266085032894\n",
      "R2 Score  0.6694797406138564\n",
      " \n",
      "Results for :  home_health_reimb\n",
      "MSE for training set  0.017562476411189056\n",
      "MSE for test set  0.05803257697421554\n",
      "R2 Score  0.7882491065851258\n",
      " \n",
      "Results for :  home_health_reimb_price_adj\n",
      "MSE for training set  0.01557367510599197\n",
      "MSE for test set  0.034249828969699955\n",
      "R2 Score  0.8875382975644095\n",
      " \n",
      "Results for :  hospice_reimb\n",
      "MSE for training set  0.0347868005932964\n",
      "MSE for test set  0.06566145616300932\n",
      "R2 Score  0.5090957597675889\n",
      " \n",
      "Results for :  hospice_reimb_price_adj\n",
      "MSE for training set  0.037131102382862956\n",
      "MSE for test set  0.04604184835313529\n",
      "R2 Score  0.7625911307112361\n",
      " \n",
      "Results for :  dme_reimb\n",
      "MSE for training set  0.007348793183229248\n",
      "MSE for test set  0.015971525405881495\n",
      "R2 Score  0.727837904510825\n",
      " \n",
      "Results for :  dme_reimb_price_adj\n",
      "MSE for training set  0.007317396870418265\n",
      "MSE for test set  0.010645336873077197\n",
      "R2 Score  0.6890579824932398\n",
      " \n"
     ]
    }
   ],
   "source": [
    "linear = LinearRegression()\n",
    "\n",
    "for col in recolumns:\n",
    "    logY = logdiabdrop[col]\n",
    "    X_train, X_test, y_train, y_test = train_test_split(logX, logY, test_size=0.25)\n",
    "\n",
    "    # Fit your model using the training set\n",
    "    linear.fit(X_train, y_train)\n",
    "\n",
    "    # Call predict to get the predicted values for training and test set\n",
    "    train_predicted = linear.predict(X_train)\n",
    "    test_predicted = linear.predict(X_test)\n",
    "\n",
    "    # Calculate RMSE for training and test set\n",
    "    print('Results for : ',col)\n",
    "    print('MSE for training set ', mean_squared_error(y_train, train_predicted))\n",
    "    print('MSE for test set ', mean_squared_error(y_test, test_predicted))\n",
    "    print('R2 Score ', r2_score(y_test, test_predicted))\n",
    "    print(' ')"
   ]
  },
  {
   "cell_type": "markdown",
   "metadata": {},
   "source": [
    "## Dropping less rows "
   ]
  },
  {
   "cell_type": "code",
   "execution_count": 49,
   "metadata": {},
   "outputs": [
    {
     "data": {
      "text/plain": [
       "county_id                                      0\n",
       "county_name                                    0\n",
       "medicare_enrollees                             9\n",
       "black_medicare_enrollees                   11210\n",
       "white_medicare_enrollees                    8526\n",
       "rate_one_ambulatory_visit                     21\n",
       "lower_ci_one_amb_visit                        28\n",
       "upper_ci_one_amb_visit                        28\n",
       "rate_one_ambulatory_visit_black            11210\n",
       "lower_ci_one_amb_visit_black               11217\n",
       "upper_ci_one_amb_visit_black               11217\n",
       "rate_one_ambulatory_visit_white             8526\n",
       "lower_ci_one_amb_visit_white                8533\n",
       "upper_ci_one_amb_visit_white                8533\n",
       "diabetic_enrollees                           319\n",
       "black_diabetic_enrollees                   12598\n",
       "white_diabetic_enrollees                    6611\n",
       "diabetic_pts_a1c                             319\n",
       "lower_ci_diabetic_pts_a1c                    326\n",
       "upper_ci_diabetic_pts_a1c                    326\n",
       "diabetic_pts_a1c_black                     12598\n",
       "lower_ci_diabetic_pts_a1c_black            12605\n",
       "upper_ci_diabetic_pts_a1c_black            12605\n",
       "diabetic_pts_a1c_white                      6611\n",
       "lower_ci_diabetic_pts_a1c_white             6618\n",
       "upper_ci_diabetic_pts_a1c_white             6618\n",
       "eye_exam                                     413\n",
       "lower_ci_eye_exam                            420\n",
       "upper_ci_eye_exam                            420\n",
       "eye_exam_black                             13248\n",
       "                                           ...  \n",
       "leg_amputations_black                      21561\n",
       "lower_ci_leg_amputations_black             21568\n",
       "upper_ci_leg_amputations_black             21568\n",
       "leg_amputations_white                      21533\n",
       "lower_ci_leg_amputations_white             21540\n",
       "upper_ci_leg_amputations_white             21540\n",
       "discharges_amb_sensitive                     627\n",
       "lower_ci_discharges_amb_sensitive            634\n",
       "upper_ci_discharges_amb_sensitive            634\n",
       "discharges_amb_sensitive_black             14955\n",
       "lower_ci_discharges_amb_sensitive_black    14962\n",
       "upper_ci_discharges_amb_sensitive_black    14962\n",
       "discharges_amb_sensitive_white             12484\n",
       "lower_ci_discharges_amb_sensitive_white    12491\n",
       "upper_ci_discharges_amb_sensitive_white    12491\n",
       "year                                           0\n",
       "total_reimb                                 2435\n",
       "total_reimb_price_adj                       2435\n",
       "hospital_snf_reimb                          2435\n",
       "hospital_snf_reimb_price_adj                2435\n",
       "physician_reimb                             2435\n",
       "physician_reimb_price_adj                   2435\n",
       "outpatient_reimb                            2435\n",
       "outpatient_reimb_price_adj                  2435\n",
       "home_health_reimb                           2534\n",
       "home_health_reimb_price_adj                 2534\n",
       "hospice_reimb                               4998\n",
       "hospice_reimb_price_adj                     4998\n",
       "dme_reimb                                   2435\n",
       "dme_reimb_price_adj                         2435\n",
       "Length: 92, dtype: int64"
      ]
     },
     "execution_count": 49,
     "metadata": {},
     "output_type": "execute_result"
    }
   ],
   "source": [
    "jn.isna().sum()"
   ]
  },
  {
   "cell_type": "code",
   "execution_count": 54,
   "metadata": {},
   "outputs": [],
   "source": [
    "diab2 = jn[['county_id', 'medicare_enrollees',\n",
    "       'rate_one_ambulatory_visit', 'diabetic_enrollees',\n",
    "       'diabetic_pts_a1c', 'eye_exam', 'diabetic_pts_lipids', 'female_enrollees', 'beneficiaries_100_part_A', 'discharges_amb_sensitive','year', 'total_reimb',\n",
    "       'total_reimb_price_adj', 'hospital_snf_reimb',\n",
    "       'hospital_snf_reimb_price_adj', 'physician_reimb',\n",
    "       'physician_reimb_price_adj', 'outpatient_reimb',\n",
    "       'outpatient_reimb_price_adj', 'home_health_reimb',\n",
    "       'home_health_reimb_price_adj', 'hospice_reimb',\n",
    "       'hospice_reimb_price_adj', 'dme_reimb', 'dme_reimb_price_adj']]"
   ]
  },
  {
   "cell_type": "code",
   "execution_count": 55,
   "metadata": {},
   "outputs": [
    {
     "data": {
      "text/plain": [
       "county_id                          0\n",
       "medicare_enrollees                 9\n",
       "rate_one_ambulatory_visit         21\n",
       "diabetic_enrollees               319\n",
       "diabetic_pts_a1c                 319\n",
       "eye_exam                         413\n",
       "diabetic_pts_lipids              381\n",
       "female_enrollees                 647\n",
       "beneficiaries_100_part_A           5\n",
       "discharges_amb_sensitive         627\n",
       "year                               0\n",
       "total_reimb                     2435\n",
       "total_reimb_price_adj           2435\n",
       "hospital_snf_reimb              2435\n",
       "hospital_snf_reimb_price_adj    2435\n",
       "physician_reimb                 2435\n",
       "physician_reimb_price_adj       2435\n",
       "outpatient_reimb                2435\n",
       "outpatient_reimb_price_adj      2435\n",
       "home_health_reimb               2534\n",
       "home_health_reimb_price_adj     2534\n",
       "hospice_reimb                   4998\n",
       "hospice_reimb_price_adj         4998\n",
       "dme_reimb                       2435\n",
       "dme_reimb_price_adj             2435\n",
       "dtype: int64"
      ]
     },
     "execution_count": 55,
     "metadata": {},
     "output_type": "execute_result"
    }
   ],
   "source": [
    "diab2.isna().sum()"
   ]
  },
  {
   "cell_type": "code",
   "execution_count": 56,
   "metadata": {},
   "outputs": [],
   "source": [
    "diab2drop = diab2.dropna()"
   ]
  },
  {
   "cell_type": "code",
   "execution_count": 57,
   "metadata": {},
   "outputs": [
    {
     "data": {
      "text/plain": [
       "16791"
      ]
     },
     "execution_count": 57,
     "metadata": {},
     "output_type": "execute_result"
    }
   ],
   "source": [
    "len(diab2drop)"
   ]
  },
  {
   "cell_type": "code",
   "execution_count": 58,
   "metadata": {},
   "outputs": [
    {
     "name": "stdout",
     "output_type": "stream",
     "text": [
      "0.9934   :   hospital_snf_reimb\n",
      "0.9937   :   hospital_snf_reimb_price_adj\n",
      "0.9699   :   physician_reimb\n",
      "0.9738   :   physician_reimb_price_adj\n",
      "0.9194   :   outpatient_reimb\n",
      "0.9150   :   outpatient_reimb_price_adj\n",
      "0.8209   :   home_health_reimb\n",
      "0.8198   :   home_health_reimb_price_adj\n",
      "0.8080   :   hospice_reimb\n",
      "0.8001   :   hospice_reimb_price_adj\n",
      "0.9556   :   dme_reimb\n",
      "0.9537   :   dme_reimb_price_adj\n"
     ]
    }
   ],
   "source": [
    "recolumns = ['hospital_snf_reimb',\n",
    "       'hospital_snf_reimb_price_adj', 'physician_reimb',\n",
    "       'physician_reimb_price_adj', 'outpatient_reimb',\n",
    "       'outpatient_reimb_price_adj', 'home_health_reimb',\n",
    "       'home_health_reimb_price_adj', 'hospice_reimb',\n",
    "       'hospice_reimb_price_adj', 'dme_reimb', 'dme_reimb_price_adj']\n",
    "\n",
    "X = diab2drop.drop(columns=recolumns)\n",
    "\n",
    "for col in recolumns:  \n",
    "    Y = diab2drop[col]\n",
    "    sm.add_constant(X)\n",
    "    model = sm.OLS(Y,X)\n",
    "    results = model.fit()\n",
    "    print(\"%.4f\" % results.rsquared,\"  :  \",col)"
   ]
  },
  {
   "cell_type": "code",
   "execution_count": 59,
   "metadata": {},
   "outputs": [
    {
     "name": "stdout",
     "output_type": "stream",
     "text": [
      "Results for :  hospital_snf_reimb\n",
      "MSE for training set  107343.46655166695\n",
      "MSE for test set  248160.73776615973\n",
      " \n",
      "Results for :  hospital_snf_reimb_price_adj\n",
      "MSE for training set  119886.45692598497\n",
      "MSE for test set  128574.74755936404\n",
      " \n",
      "Results for :  physician_reimb\n",
      "MSE for training set  151027.30802717898\n",
      "MSE for test set  145766.48005803226\n",
      " \n",
      "Results for :  physician_reimb_price_adj\n",
      "MSE for training set  142949.84860775864\n",
      "MSE for test set  128495.82580079883\n",
      " \n",
      "Results for :  outpatient_reimb\n",
      "MSE for training set  140572.7961976332\n",
      "MSE for test set  145428.17035764016\n",
      " \n",
      "Results for :  outpatient_reimb_price_adj\n",
      "MSE for training set  166717.19669538803\n",
      "MSE for test set  162006.70473024776\n",
      " \n",
      "Results for :  home_health_reimb\n",
      "MSE for training set  67094.67486298991\n",
      "MSE for test set  65855.85941497295\n",
      " \n",
      "Results for :  home_health_reimb_price_adj\n",
      "MSE for training set  77392.85069932212\n",
      "MSE for test set  73940.92507862503\n",
      " \n",
      "Results for :  hospice_reimb\n",
      "MSE for training set  30760.928084281746\n",
      "MSE for test set  29808.883101017105\n",
      " \n",
      "Results for :  hospice_reimb_price_adj\n",
      "MSE for training set  37984.237944278764\n",
      "MSE for test set  39870.901442949944\n",
      " \n",
      "Results for :  dme_reimb\n",
      "MSE for training set  2750.4859150493558\n",
      "MSE for test set  2710.707202737375\n",
      " \n",
      "Results for :  dme_reimb_price_adj\n",
      "MSE for training set  2718.2373139461442\n",
      "MSE for test set  2678.143775567055\n",
      " \n"
     ]
    }
   ],
   "source": [
    "linear = LinearRegression()\n",
    "\n",
    "for col in recolumns:\n",
    "    Y = diab2drop[col]\n",
    "    X_train, X_test, y_train, y_test = train_test_split(X, Y, test_size=0.25)\n",
    "\n",
    "    # Fit your model using the training set\n",
    "    linear.fit(X_train, y_train)\n",
    "\n",
    "    # Call predict to get the predicted values for training and test set\n",
    "    train_predicted = linear.predict(X_train)\n",
    "    test_predicted = linear.predict(X_test)\n",
    "\n",
    "    # Calculate RMSE for training and test set\n",
    "    print('Results for : ',col)\n",
    "    print('MSE for training set ', mean_squared_error(y_train, train_predicted))\n",
    "    print('MSE for test set ', mean_squared_error(y_test, test_predicted))\n",
    "    print(' ')"
   ]
  },
  {
   "cell_type": "markdown",
   "metadata": {},
   "source": [
    "### Log of X and Y of new drop"
   ]
  },
  {
   "cell_type": "code",
   "execution_count": 61,
   "metadata": {},
   "outputs": [
    {
     "data": {
      "text/plain": [
       "16752"
      ]
     },
     "execution_count": 61,
     "metadata": {},
     "output_type": "execute_result"
    }
   ],
   "source": [
    "logdiab2drop = diab2drop.apply(np.log)\n",
    "logdiab2drop = logdiab2drop.dropna()\n",
    "len(logdiab2drop)"
   ]
  },
  {
   "cell_type": "code",
   "execution_count": 62,
   "metadata": {},
   "outputs": [
    {
     "name": "stdout",
     "output_type": "stream",
     "text": [
      "0.9999   :   hospital_snf_reimb\n",
      "0.9999   :   hospital_snf_reimb_price_adj\n",
      "0.9996   :   physician_reimb\n",
      "0.9997   :   physician_reimb_price_adj\n",
      "0.9988   :   outpatient_reimb\n",
      "0.9988   :   outpatient_reimb_price_adj\n",
      "0.9937   :   home_health_reimb\n",
      "0.9938   :   home_health_reimb_price_adj\n",
      "0.9916   :   hospice_reimb\n",
      "0.9916   :   hospice_reimb_price_adj\n",
      "0.9985   :   dme_reimb\n",
      "0.9985   :   dme_reimb_price_adj\n"
     ]
    }
   ],
   "source": [
    "recolumns = ['hospital_snf_reimb',\n",
    "       'hospital_snf_reimb_price_adj', 'physician_reimb',\n",
    "       'physician_reimb_price_adj', 'outpatient_reimb',\n",
    "       'outpatient_reimb_price_adj', 'home_health_reimb',\n",
    "       'home_health_reimb_price_adj', 'hospice_reimb',\n",
    "       'hospice_reimb_price_adj', 'dme_reimb', 'dme_reimb_price_adj']\n",
    "\n",
    "logX = logdiab2drop.drop(columns=recolumns)\n",
    "for col in recolumns:\n",
    "    logY = logdiab2drop[col]\n",
    "    sm.add_constant(logX)\n",
    "    model = sm.OLS(logY,logX)\n",
    "    results = model.fit()\n",
    "    print(\"%.4f\" % results.rsquared,\"  :  \",col)"
   ]
  },
  {
   "cell_type": "code",
   "execution_count": 63,
   "metadata": {},
   "outputs": [
    {
     "name": "stdout",
     "output_type": "stream",
     "text": [
      "Results for :  hospital_snf_reimb\n",
      "MSE for training set  0.005705520917761673\n",
      "MSE for test set  0.00573999468277846\n",
      "R2 Score  0.8261198785140791\n",
      " \n",
      "Results for :  hospital_snf_reimb_price_adj\n",
      "MSE for training set  0.0053515255775436745\n",
      "MSE for test set  0.005296673611060977\n",
      "R2 Score  0.861763523379683\n",
      " \n",
      "Results for :  physician_reimb\n",
      "MSE for training set  0.022111562207421373\n",
      "MSE for test set  0.022245598162411798\n",
      "R2 Score  0.621749320560951\n",
      " \n",
      "Results for :  physician_reimb_price_adj\n",
      "MSE for training set  0.019721898944165654\n",
      "MSE for test set  0.020296695823669098\n",
      "R2 Score  0.6161208383869621\n",
      " \n",
      "Results for :  outpatient_reimb\n",
      "MSE for training set  0.04372331701670139\n",
      "MSE for test set  0.04398965923907857\n",
      "R2 Score  0.533059182518928\n",
      " \n",
      "Results for :  outpatient_reimb_price_adj\n",
      "MSE for training set  0.04607878069810682\n",
      "MSE for test set  0.04764060575375143\n",
      "R2 Score  0.520704223353841\n",
      " \n",
      "Results for :  home_health_reimb\n",
      "MSE for training set  0.220418844515834\n",
      "MSE for test set  0.21742900276937618\n",
      "R2 Score  0.5386875468112831\n",
      " \n",
      "Results for :  home_health_reimb_price_adj\n",
      "MSE for training set  0.21959294021881742\n",
      "MSE for test set  0.2203339064700639\n",
      "R2 Score  0.5531162813036332\n",
      " \n",
      "Results for :  hospice_reimb\n",
      "MSE for training set  0.270223614997791\n",
      "MSE for test set  0.2587684521113419\n",
      "R2 Score  0.26923687740724966\n",
      " \n",
      "Results for :  hospice_reimb_price_adj\n",
      "MSE for training set  0.27322190323370665\n",
      "MSE for test set  0.2759840137289009\n",
      "R2 Score  0.27453378058770395\n",
      " \n",
      "Results for :  dme_reimb\n",
      "MSE for training set  0.03734195924912596\n",
      "MSE for test set  0.03759678068990483\n",
      "R2 Score  0.41509309724914734\n",
      " \n",
      "Results for :  dme_reimb_price_adj\n",
      "MSE for training set  0.0373760374980762\n",
      "MSE for test set  0.037101133485556895\n",
      "R2 Score  0.44612063664083257\n",
      " \n"
     ]
    }
   ],
   "source": [
    "linear = LinearRegression()\n",
    "\n",
    "for col in recolumns:\n",
    "    logY = logdiab2drop[col]\n",
    "    X_train, X_test, y_train, y_test = train_test_split(logX, logY, test_size=0.25)\n",
    "\n",
    "    # Fit your model using the training set\n",
    "    linear.fit(X_train, y_train)\n",
    "\n",
    "    # Call predict to get the predicted values for training and test set\n",
    "    train_predicted = linear.predict(X_train)\n",
    "    test_predicted = linear.predict(X_test)\n",
    "\n",
    "    # Calculate RMSE for training and test set\n",
    "    print('Results for : ',col)\n",
    "    print('MSE for training set ', mean_squared_error(y_train, train_predicted))\n",
    "    print('MSE for test set ', mean_squared_error(y_test, test_predicted))\n",
    "    print('R2 Score ', r2_score(y_test, test_predicted))\n",
    "    print(' ')"
   ]
  },
  {
   "cell_type": "code",
   "execution_count": 74,
   "metadata": {},
   "outputs": [
    {
     "data": {
      "text/plain": [
       "Text(0,0.5,'y_predicted')"
      ]
     },
     "execution_count": 74,
     "metadata": {},
     "output_type": "execute_result"
    },
    {
     "data": {
      "image/png": "[encoded data removed]",
      "text/plain": [
       "<Figure size 432x288 with 1 Axes>"
      ]
     },
     "metadata": {},
     "output_type": "display_data"
    }
   ],
   "source": [
    "linear = LinearRegression()\n",
    "\n",
    "logY = logdiab2drop['hospital_snf_reimb']\n",
    "X_train, X_test, y_train, y_test = train_test_split(logX, logY, test_size=0.25)\n",
    "\n",
    "# Fit your model using the training set\n",
    "linear.fit(X_train, y_train)\n",
    "\n",
    "# Call predict to get the predicted values for training and test set\n",
    "train_predicted = linear.predict(X_train)\n",
    "test_predicted = linear.predict(X_test)\n",
    "\n",
    "plt.scatter(y_test,test_predicted, color='k', s=20)\n",
    "plt.title('hospital_snf_reimb')\n",
    "plt.xlabel('y_test')\n",
    "plt.ylabel('y_predicted')"
   ]
  },
  {
   "cell_type": "code",
   "execution_count": null,
   "metadata": {},
   "outputs": [],
   "source": []
  }
 ],
 "metadata": {
  "kernelspec": {
   "display_name": "Python 3",
   "language": "python",
   "name": "python3"
  },
  "language_info": {
   "codemirror_mode": {
    "name": "ipython",
    "version": 3
   },
   "file_extension": ".py",
   "mimetype": "text/x-python",
   "name": "python",
   "nbconvert_exporter": "python",
   "pygments_lexer": "ipython3",
   "version": "3.6.5"
  }
 },
 "nbformat": 4,
 "nbformat_minor": 2
}
