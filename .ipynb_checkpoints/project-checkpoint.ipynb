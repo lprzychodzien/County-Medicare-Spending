{
 "cells": [
  {
   "cell_type": "markdown",
   "metadata": {},
   "source": [
    "# Forecasting Medicare Spending at the County level\n",
    "\n",
    "Forecasting Medicare spending in 2014 using data from 2007 - 2012\n",
    "https://github.com/brendan-drew/County-Medicare-Spending\n",
    "\n",
    "## Hypothesis\n",
    "How much do diabetics drive Medicare spending?"
   ]
  },
  {
   "cell_type": "code",
   "execution_count": 1,
   "metadata": {},
   "outputs": [],
   "source": [
    "import pandas as pd\n",
    "import numpy as np\n",
    "import os\n",
    "import matplotlib.pyplot as plt\n",
    "import seaborn as sns\n",
    "import scipy.stats as scs\n",
    "\n",
    "from sklearn.linear_model import LinearRegression\n",
    "from sklearn.model_selection import KFold\n",
    "from sklearn.model_selection import train_test_split\n",
    "from sklearn.model_selection import cross_val_score\n",
    "from sklearn.metrics import mean_squared_error, r2_score\n",
    "\n",
    "import statsmodels.api as sm\n",
    "import statsmodels.formula.api as smf\n",
    "\n",
    "from src.import_raw_data import load_medicare_spending,load_pc_access\n",
    "\n",
    "from IPython.display import display\n",
    "pd.options.display.max_columns = None"
   ]
  },
  {
   "cell_type": "code",
   "execution_count": 2,
   "metadata": {},
   "outputs": [],
   "source": [
    "#DataFrame with primary care access data from the Dartmouth Institute from 2003 - 2015 with a main focus on diabetics\n",
    "#Only select 2008 to 2014 data for consistency purposes\n",
    "pc = load_pc_access()\n",
    "pc = pc.astype({'year':'int',})\n",
    "pc = pc[(pc.year>2007) & (pc.year<2015)]\n",
    "\n",
    "#Dataframe with detailed Medicare benificiary demographic/utilization\n",
    "#Only select 2008 to 2014 data for consistency purposes\n",
    "dfclean = pd.read_csv('data/medicare_county_level/cleaned_medicare_county_all.csv')\n",
    "dfclean = dfclean.astype({'year':'int'})\n",
    "dfclean = dfclean[dfclean.year>2007]\n",
    "\n",
    "#DataFrame with Medicare Spending Data from the Dartmouth Institute from 2003-2015\n",
    "#Only select 2008 to 2014 data for consistency purposes\n",
    "mcspend = load_medicare_spending()\n",
    "mcspend = mcspend.astype({'year':'int'})\n",
    "mcspend = mcspend[(mcspend.year>2007) & (mcspend.year<2015)]\n",
    "\n",
    "#Join the point of care and spend data for analysis\n",
    "jn = pc.merge(mcspend.drop(columns =['medicare_enrollees','state','county_excl_state']),on=['county_id','county_name','year'],how='left')\n",
    "jn = jn.apply(pd.to_numeric,errors='ignore')\n"
   ]
  },
  {
   "cell_type": "markdown",
   "metadata": {},
   "source": [
    "#Remove racial destinction information and non-int data from joined dataframe\n",
    "jns = jn[['county_id', 'medicare_enrollees',\n",
    "       'rate_one_ambulatory_visit', 'diabetic_enrollees',\n",
    "       'diabetic_pts_a1c', 'eye_exam', 'diabetic_pts_lipids', 'female_enrollees', 'beneficiaries_100_part_A',\n",
    "       'leg_amputations', 'discharges_amb_sensitive', 'year', 'total_reimb',\n",
    "       'total_reimb_price_adj', 'hospital_snf_reimb',\n",
    "       'hospital_snf_reimb_price_adj', 'physician_reimb',\n",
    "       'physician_reimb_price_adj', 'outpatient_reimb',\n",
    "       'outpatient_reimb_price_adj', 'home_health_reimb',\n",
    "       'home_health_reimb_price_adj', 'dme_reimb', 'dme_reimb_price_adj']]\n",
    "logjns = jns.apply(np.log)"
   ]
  },
  {
   "cell_type": "markdown",
   "metadata": {},
   "source": [
    "sm = pd.plotting.scatter_matrix(logjns,figsize=[20,20])\n",
    "#Change label rotation\n",
    "[s.xaxis.label.set_rotation(45) for s in sm.reshape(-1)]\n",
    "[s.yaxis.label.set_rotation(0) for s in sm.reshape(-1)]\n",
    "\n",
    "#May need to offset label when rotating to prevent overlap of figure\n",
    "[s.get_yaxis().set_label_coords(-0.3,0.5) for s in sm.reshape(-1)]\n",
    "\n",
    "#Hide all ticks\n",
    "[s.set_xticks(()) for s in sm.reshape(-1)]\n",
    "[s.set_yticks(()) for s in sm.reshape(-1)]\n",
    "\n",
    "plt.show()"
   ]
  },
  {
   "cell_type": "markdown",
   "metadata": {},
   "source": [
    "## Diabetics influence on Medicare spend\n",
    "How much does diabetic population care drive total reimbursement? "
   ]
  },
  {
   "cell_type": "code",
   "execution_count": 3,
   "metadata": {},
   "outputs": [],
   "source": [
    "diab = jn[['county_id', 'medicare_enrollees',\n",
    "       'black_medicare_enrollees', 'white_medicare_enrollees',\n",
    "       'rate_one_ambulatory_visit', 'diabetic_enrollees',\n",
    "       'black_diabetic_enrollees', 'white_diabetic_enrollees',\n",
    "       'diabetic_pts_a1c', 'diabetic_pts_a1c_black',\n",
    "       'diabetic_pts_a1c_white', 'eye_exam', 'eye_exam_black', 'eye_exam_white', 'diabetic_pts_lipids',\n",
    "       'diabetic_pts_lipids_black', 'diabetic_pts_lipids_white', 'female_enrollees',\n",
    "       'female_enrollees_black', 'female_enrollees_white', 'beneficiaries_100_part_A',\n",
    "       'beneficiaries_100_part_A_black', 'beneficiaries_100_part_A_white',\n",
    "       'leg_amputations', 'leg_amputations_black',\n",
    "       'leg_amputations_white', 'discharges_amb_sensitive', 'discharges_amb_sensitive_black',\n",
    "       'discharges_amb_sensitive_white','year', 'total_reimb',\n",
    "       'total_reimb_price_adj', 'hospital_snf_reimb',\n",
    "       'hospital_snf_reimb_price_adj', 'physician_reimb',\n",
    "       'physician_reimb_price_adj', 'outpatient_reimb',\n",
    "       'outpatient_reimb_price_adj', 'home_health_reimb',\n",
    "       'home_health_reimb_price_adj', 'hospice_reimb',\n",
    "       'hospice_reimb_price_adj', 'dme_reimb', 'dme_reimb_price_adj']]"
   ]
  },
  {
   "cell_type": "code",
   "execution_count": 4,
   "metadata": {},
   "outputs": [
    {
     "data": {
      "text/plain": [
       "21963"
      ]
     },
     "execution_count": 4,
     "metadata": {},
     "output_type": "execute_result"
    }
   ],
   "source": [
    "len(diab)"
   ]
  },
  {
   "cell_type": "code",
   "execution_count": 5,
   "metadata": {},
   "outputs": [
    {
     "data": {
      "text/plain": [
       "county_id                             0\n",
       "medicare_enrollees                    9\n",
       "black_medicare_enrollees          11210\n",
       "white_medicare_enrollees           8526\n",
       "rate_one_ambulatory_visit            21\n",
       "diabetic_enrollees                  319\n",
       "black_diabetic_enrollees          12598\n",
       "white_diabetic_enrollees           6611\n",
       "diabetic_pts_a1c                    319\n",
       "diabetic_pts_a1c_black            12598\n",
       "diabetic_pts_a1c_white             6611\n",
       "eye_exam                            413\n",
       "eye_exam_black                    13248\n",
       "eye_exam_white                     7343\n",
       "diabetic_pts_lipids                 381\n",
       "diabetic_pts_lipids_black         12822\n",
       "diabetic_pts_lipids_white          6893\n",
       "female_enrollees                    647\n",
       "female_enrollees_black            15450\n",
       "female_enrollees_white             8306\n",
       "beneficiaries_100_part_A              5\n",
       "beneficiaries_100_part_A_black     4985\n",
       "beneficiaries_100_part_A_white        5\n",
       "leg_amputations                   19636\n",
       "leg_amputations_black             21561\n",
       "leg_amputations_white             21533\n",
       "discharges_amb_sensitive            627\n",
       "discharges_amb_sensitive_black    14955\n",
       "discharges_amb_sensitive_white    12484\n",
       "year                                  0\n",
       "total_reimb                        2435\n",
       "total_reimb_price_adj              2435\n",
       "hospital_snf_reimb                 2435\n",
       "hospital_snf_reimb_price_adj       2435\n",
       "physician_reimb                    2435\n",
       "physician_reimb_price_adj          2435\n",
       "outpatient_reimb                   2435\n",
       "outpatient_reimb_price_adj         2435\n",
       "home_health_reimb                  2534\n",
       "home_health_reimb_price_adj        2534\n",
       "hospice_reimb                      4998\n",
       "hospice_reimb_price_adj            4998\n",
       "dme_reimb                          2435\n",
       "dme_reimb_price_adj                2435\n",
       "dtype: int64"
      ]
     },
     "execution_count": 5,
     "metadata": {},
     "output_type": "execute_result"
    }
   ],
   "source": [
    "diab.isna().sum()"
   ]
  },
  {
   "cell_type": "code",
   "execution_count": 6,
   "metadata": {},
   "outputs": [],
   "source": [
    "diabdrop = diab.dropna()"
   ]
  },
  {
   "cell_type": "code",
   "execution_count": 7,
   "metadata": {},
   "outputs": [
    {
     "data": {
      "text/plain": [
       "382"
      ]
     },
     "execution_count": 7,
     "metadata": {},
     "output_type": "execute_result"
    }
   ],
   "source": [
    "len(diabdrop)"
   ]
  },
  {
   "cell_type": "code",
   "execution_count": 8,
   "metadata": {},
   "outputs": [
    {
     "name": "stdout",
     "output_type": "stream",
     "text": [
      "0.9977   :   hospital_snf_reimb\n",
      "0.9975   :   hospital_snf_reimb_price_adj\n",
      "0.9916   :   physician_reimb\n",
      "0.9930   :   physician_reimb_price_adj\n",
      "0.9659   :   outpatient_reimb\n",
      "0.9636   :   outpatient_reimb_price_adj\n",
      "0.9269   :   home_health_reimb\n",
      "0.9282   :   home_health_reimb_price_adj\n",
      "0.9393   :   hospice_reimb\n",
      "0.9374   :   hospice_reimb_price_adj\n",
      "0.9735   :   dme_reimb\n",
      "0.9765   :   dme_reimb_price_adj\n"
     ]
    }
   ],
   "source": [
    "recolumns = ['hospital_snf_reimb',\n",
    "       'hospital_snf_reimb_price_adj', 'physician_reimb',\n",
    "       'physician_reimb_price_adj', 'outpatient_reimb',\n",
    "       'outpatient_reimb_price_adj', 'home_health_reimb',\n",
    "       'home_health_reimb_price_adj', 'hospice_reimb',\n",
    "       'hospice_reimb_price_adj', 'dme_reimb', 'dme_reimb_price_adj']\n",
    "\n",
    "X = diabdrop.drop(columns=recolumns)\n",
    "\n",
    "for col in recolumns:  \n",
    "    Y = diabdrop[col]\n",
    "    sm.add_constant(X)\n",
    "    model = sm.OLS(Y,X)\n",
    "    results = model.fit()\n",
    "    print(\"%.4f\" % results.rsquared,\"  :  \",col)"
   ]
  },
  {
   "cell_type": "code",
   "execution_count": 9,
   "metadata": {},
   "outputs": [
    {
     "data": {
      "text/plain": [
       "Text(0,0.5,'Studentized Residuals')"
      ]
     },
     "execution_count": 9,
     "metadata": {},
     "output_type": "execute_result"
    },
    {
     "data": {
      "image/png": "[encoded data removed]",
      "text/plain": [
       "<Figure size 432x288 with 1 Axes>"
      ]
     },
     "metadata": {},
     "output_type": "display_data"
    }
   ],
   "source": [
    "student_resid = results.outlier_test()['student_resid']\n",
    "plt.scatter(results.fittedvalues, student_resid)\n",
    "plt.xlabel('Fitted values')\n",
    "plt.ylabel('Studentized Residuals')"
   ]
  },
  {
   "cell_type": "code",
   "execution_count": 10,
   "metadata": {},
   "outputs": [
    {
     "data": {
      "image/png": "[encoded data removed]",
      "text/plain": [
       "<Figure size 432x288 with 1 Axes>"
      ]
     },
     "metadata": {},
     "output_type": "display_data"
    }
   ],
   "source": [
    "sm.graphics.qqplot(student_resid, line='45', fit=True)\n",
    "plt.show()"
   ]
  },
  {
   "cell_type": "code",
   "execution_count": 11,
   "metadata": {},
   "outputs": [
    {
     "name": "stdout",
     "output_type": "stream",
     "text": [
      "Results for :  hospital_snf_reimb\n",
      "MSE for training set  46417.799730390085\n",
      "MSE for test set  140433.60565366247\n",
      " \n",
      "Results for :  hospital_snf_reimb_price_adj\n",
      "MSE for training set  52183.84194982132\n",
      "MSE for test set  96631.16138416884\n",
      " \n",
      "Results for :  physician_reimb\n",
      "MSE for training set  69134.88999700006\n",
      "MSE for test set  115195.21019503365\n",
      " \n",
      "Results for :  physician_reimb_price_adj\n",
      "MSE for training set  57740.718047861956\n",
      "MSE for test set  100361.6671963138\n",
      " \n",
      "Results for :  outpatient_reimb\n",
      "MSE for training set  34375.81652821961\n",
      "MSE for test set  46027.849876492786\n",
      " \n",
      "Results for :  outpatient_reimb_price_adj\n",
      "MSE for training set  33981.37687624549\n",
      "MSE for test set  67450.69384220226\n",
      " \n",
      "Results for :  home_health_reimb\n",
      "MSE for training set  27078.385274933546\n",
      "MSE for test set  84007.67106217192\n",
      " \n",
      "Results for :  home_health_reimb_price_adj\n",
      "MSE for training set  35331.67991047446\n",
      "MSE for test set  619486.2639732332\n",
      " \n",
      "Results for :  hospice_reimb\n",
      "MSE for training set  8345.649515344538\n",
      "MSE for test set  38058.66243508303\n",
      " \n",
      "Results for :  hospice_reimb_price_adj\n",
      "MSE for training set  8604.482651616176\n",
      "MSE for test set  35631.51768500604\n",
      " \n",
      "Results for :  dme_reimb\n",
      "MSE for training set  999.9548860339373\n",
      "MSE for test set  576.2866135716208\n",
      " \n",
      "Results for :  dme_reimb_price_adj\n",
      "MSE for training set  601.1352350763674\n",
      "MSE for test set  12745.012639272049\n",
      " \n"
     ]
    }
   ],
   "source": [
    "linear = LinearRegression()\n",
    "\n",
    "for col in recolumns:\n",
    "    Y = diabdrop[col]\n",
    "    X_train, X_test, y_train, y_test = train_test_split(X, Y, test_size=0.25)\n",
    "\n",
    "    # Fit your model using the training set\n",
    "    linear.fit(X_train, y_train)\n",
    "\n",
    "    # Call predict to get the predicted values for training and test set\n",
    "    train_predicted = linear.predict(X_train)\n",
    "    test_predicted = linear.predict(X_test)\n",
    "\n",
    "    # Calculate RMSE for training and test set\n",
    "    print('Results for : ',col)\n",
    "    print('MSE for training set ', mean_squared_error(y_train, train_predicted))\n",
    "    print('MSE for test set ', mean_squared_error(y_test, test_predicted))\n",
    "    print(' ')"
   ]
  },
  {
   "cell_type": "code",
   "execution_count": null,
   "metadata": {},
   "outputs": [],
   "source": []
  },
  {
   "cell_type": "markdown",
   "metadata": {},
   "source": [
    "### Log of X and Y values"
   ]
  },
  {
   "cell_type": "code",
   "execution_count": 12,
   "metadata": {},
   "outputs": [
    {
     "name": "stdout",
     "output_type": "stream",
     "text": [
      "1.0000   :   hospital_snf_reimb\n",
      "1.0000   :   hospital_snf_reimb_price_adj\n",
      "1.0000   :   physician_reimb\n",
      "1.0000   :   physician_reimb_price_adj\n",
      "0.9997   :   outpatient_reimb\n",
      "0.9997   :   outpatient_reimb_price_adj\n",
      "0.9993   :   home_health_reimb\n",
      "0.9994   :   home_health_reimb_price_adj\n",
      "0.9988   :   hospice_reimb\n",
      "0.9988   :   hospice_reimb_price_adj\n",
      "0.9995   :   dme_reimb\n",
      "0.9996   :   dme_reimb_price_adj\n"
     ]
    }
   ],
   "source": [
    "logdiabdrop = diabdrop.apply(np.log)\n",
    "logdiabdrop = logdiabdrop.dropna()\n",
    "\n",
    "recolumns = ['hospital_snf_reimb',\n",
    "       'hospital_snf_reimb_price_adj', 'physician_reimb',\n",
    "       'physician_reimb_price_adj', 'outpatient_reimb',\n",
    "       'outpatient_reimb_price_adj', 'home_health_reimb',\n",
    "       'home_health_reimb_price_adj', 'hospice_reimb',\n",
    "       'hospice_reimb_price_adj', 'dme_reimb', 'dme_reimb_price_adj']\n",
    "\n",
    "logX = logdiabdrop.drop(columns=recolumns)\n",
    "for col in recolumns:\n",
    "    logY = logdiabdrop[col]\n",
    "    sm.add_constant(logX)\n",
    "    model = sm.OLS(logY,logX)\n",
    "    results = model.fit()\n",
    "    print(\"%.4f\" % results.rsquared,\"  :  \",col)"
   ]
  },
  {
   "cell_type": "code",
   "execution_count": 13,
   "metadata": {},
   "outputs": [
    {
     "name": "stdout",
     "output_type": "stream",
     "text": [
      "Results for :  hospital_snf_reimb\n",
      "MSE for training set  0.0008777165427668852\n",
      "MSE for test set  0.0014203459559486414\n",
      "R2 Score  0.9590797160848575\n",
      " \n",
      "Results for :  hospital_snf_reimb_price_adj\n",
      "MSE for training set  0.0012785243178397034\n",
      "MSE for test set  0.002150130676151285\n",
      "R2 Score  0.8455355961813782\n",
      " \n",
      "Results for :  physician_reimb\n",
      "MSE for training set  0.002504553267722651\n",
      "MSE for test set  0.00480755742705988\n",
      "R2 Score  0.8752231719841552\n",
      " \n",
      "Results for :  physician_reimb_price_adj\n",
      "MSE for training set  0.002057307558347188\n",
      "MSE for test set  0.008337221534886951\n",
      "R2 Score  0.7330613818519758\n",
      " \n",
      "Results for :  outpatient_reimb\n",
      "MSE for training set  0.010128461544257974\n",
      "MSE for test set  0.017147779450341124\n",
      "R2 Score  0.584037327043762\n",
      " \n",
      "Results for :  outpatient_reimb_price_adj\n",
      "MSE for training set  0.011160035514958108\n",
      "MSE for test set  0.01978377032185949\n",
      "R2 Score  0.807420549000845\n",
      " \n",
      "Results for :  home_health_reimb\n",
      "MSE for training set  0.018152348080792552\n",
      "MSE for test set  0.033506000828256895\n",
      "R2 Score  0.8615231521419382\n",
      " \n",
      "Results for :  home_health_reimb_price_adj\n",
      "MSE for training set  0.013844861788371734\n",
      "MSE for test set  0.04891656964677641\n",
      "R2 Score  0.8552419008833341\n",
      " \n",
      "Results for :  hospice_reimb\n",
      "MSE for training set  0.03485717582354355\n",
      "MSE for test set  0.056337825343558585\n",
      "R2 Score  0.6586967395717878\n",
      " \n",
      "Results for :  hospice_reimb_price_adj\n",
      "MSE for training set  0.03246616247691489\n",
      "MSE for test set  0.0733703527654822\n",
      "R2 Score  0.7050820266315247\n",
      " \n",
      "Results for :  dme_reimb\n",
      "MSE for training set  0.007531622992069266\n",
      "MSE for test set  0.015500503891152076\n",
      "R2 Score  0.668610273271091\n",
      " \n",
      "Results for :  dme_reimb_price_adj\n",
      "MSE for training set  0.005841851411430184\n",
      "MSE for test set  0.015196745813379632\n",
      "R2 Score  0.7731509023105194\n",
      " \n"
     ]
    }
   ],
   "source": [
    "linear = LinearRegression()\n",
    "\n",
    "for col in recolumns:\n",
    "    logY = logdiabdrop[col]\n",
    "    X_train, X_test, y_train, y_test = train_test_split(logX, logY, test_size=0.25)\n",
    "\n",
    "    # Fit your model using the training set\n",
    "    linear.fit(X_train, y_train)\n",
    "\n",
    "    # Call predict to get the predicted values for training and test set\n",
    "    train_predicted = linear.predict(X_train)\n",
    "    test_predicted = linear.predict(X_test)\n",
    "\n",
    "    # Calculate RMSE for training and test set\n",
    "    print('Results for : ',col)\n",
    "    print('MSE for training set ', mean_squared_error(y_train, train_predicted))\n",
    "    print('MSE for test set ', mean_squared_error(y_test, test_predicted))\n",
    "    print('R2 Score ', r2_score(y_test, test_predicted))\n",
    "    print(' ')"
   ]
  },
  {
   "cell_type": "markdown",
   "metadata": {},
   "source": [
    "## Dropping less rows "
   ]
  },
  {
   "cell_type": "code",
   "execution_count": 14,
   "metadata": {},
   "outputs": [
    {
     "data": {
      "text/plain": [
       "county_id                                      0\n",
       "county_name                                    0\n",
       "medicare_enrollees                             9\n",
       "black_medicare_enrollees                   11210\n",
       "white_medicare_enrollees                    8526\n",
       "rate_one_ambulatory_visit                     21\n",
       "lower_ci_one_amb_visit                        28\n",
       "upper_ci_one_amb_visit                        28\n",
       "rate_one_ambulatory_visit_black            11210\n",
       "lower_ci_one_amb_visit_black               11217\n",
       "upper_ci_one_amb_visit_black               11217\n",
       "rate_one_ambulatory_visit_white             8526\n",
       "lower_ci_one_amb_visit_white                8533\n",
       "upper_ci_one_amb_visit_white                8533\n",
       "diabetic_enrollees                           319\n",
       "black_diabetic_enrollees                   12598\n",
       "white_diabetic_enrollees                    6611\n",
       "diabetic_pts_a1c                             319\n",
       "lower_ci_diabetic_pts_a1c                    326\n",
       "upper_ci_diabetic_pts_a1c                    326\n",
       "diabetic_pts_a1c_black                     12598\n",
       "lower_ci_diabetic_pts_a1c_black            12605\n",
       "upper_ci_diabetic_pts_a1c_black            12605\n",
       "diabetic_pts_a1c_white                      6611\n",
       "lower_ci_diabetic_pts_a1c_white             6618\n",
       "upper_ci_diabetic_pts_a1c_white             6618\n",
       "eye_exam                                     413\n",
       "lower_ci_eye_exam                            420\n",
       "upper_ci_eye_exam                            420\n",
       "eye_exam_black                             13248\n",
       "                                           ...  \n",
       "leg_amputations_black                      21561\n",
       "lower_ci_leg_amputations_black             21568\n",
       "upper_ci_leg_amputations_black             21568\n",
       "leg_amputations_white                      21533\n",
       "lower_ci_leg_amputations_white             21540\n",
       "upper_ci_leg_amputations_white             21540\n",
       "discharges_amb_sensitive                     627\n",
       "lower_ci_discharges_amb_sensitive            634\n",
       "upper_ci_discharges_amb_sensitive            634\n",
       "discharges_amb_sensitive_black             14955\n",
       "lower_ci_discharges_amb_sensitive_black    14962\n",
       "upper_ci_discharges_amb_sensitive_black    14962\n",
       "discharges_amb_sensitive_white             12484\n",
       "lower_ci_discharges_amb_sensitive_white    12491\n",
       "upper_ci_discharges_amb_sensitive_white    12491\n",
       "year                                           0\n",
       "total_reimb                                 2435\n",
       "total_reimb_price_adj                       2435\n",
       "hospital_snf_reimb                          2435\n",
       "hospital_snf_reimb_price_adj                2435\n",
       "physician_reimb                             2435\n",
       "physician_reimb_price_adj                   2435\n",
       "outpatient_reimb                            2435\n",
       "outpatient_reimb_price_adj                  2435\n",
       "home_health_reimb                           2534\n",
       "home_health_reimb_price_adj                 2534\n",
       "hospice_reimb                               4998\n",
       "hospice_reimb_price_adj                     4998\n",
       "dme_reimb                                   2435\n",
       "dme_reimb_price_adj                         2435\n",
       "Length: 92, dtype: int64"
      ]
     },
     "execution_count": 14,
     "metadata": {},
     "output_type": "execute_result"
    }
   ],
   "source": [
    "jn.isna().sum()"
   ]
  },
  {
   "cell_type": "code",
   "execution_count": 15,
   "metadata": {},
   "outputs": [],
   "source": [
    "diab2 = jn[['county_id', 'medicare_enrollees',\n",
    "       'rate_one_ambulatory_visit', 'diabetic_enrollees',\n",
    "       'diabetic_pts_a1c', 'eye_exam', 'diabetic_pts_lipids', 'female_enrollees', 'beneficiaries_100_part_A', 'discharges_amb_sensitive','year', 'total_reimb',\n",
    "       'total_reimb_price_adj', 'hospital_snf_reimb',\n",
    "       'hospital_snf_reimb_price_adj', 'physician_reimb',\n",
    "       'physician_reimb_price_adj', 'outpatient_reimb',\n",
    "       'outpatient_reimb_price_adj', 'home_health_reimb',\n",
    "       'home_health_reimb_price_adj', 'hospice_reimb',\n",
    "       'hospice_reimb_price_adj', 'dme_reimb', 'dme_reimb_price_adj']]"
   ]
  },
  {
   "cell_type": "code",
   "execution_count": 16,
   "metadata": {},
   "outputs": [
    {
     "data": {
      "text/plain": [
       "county_id                          0\n",
       "medicare_enrollees                 9\n",
       "rate_one_ambulatory_visit         21\n",
       "diabetic_enrollees               319\n",
       "diabetic_pts_a1c                 319\n",
       "eye_exam                         413\n",
       "diabetic_pts_lipids              381\n",
       "female_enrollees                 647\n",
       "beneficiaries_100_part_A           5\n",
       "discharges_amb_sensitive         627\n",
       "year                               0\n",
       "total_reimb                     2435\n",
       "total_reimb_price_adj           2435\n",
       "hospital_snf_reimb              2435\n",
       "hospital_snf_reimb_price_adj    2435\n",
       "physician_reimb                 2435\n",
       "physician_reimb_price_adj       2435\n",
       "outpatient_reimb                2435\n",
       "outpatient_reimb_price_adj      2435\n",
       "home_health_reimb               2534\n",
       "home_health_reimb_price_adj     2534\n",
       "hospice_reimb                   4998\n",
       "hospice_reimb_price_adj         4998\n",
       "dme_reimb                       2435\n",
       "dme_reimb_price_adj             2435\n",
       "dtype: int64"
      ]
     },
     "execution_count": 16,
     "metadata": {},
     "output_type": "execute_result"
    }
   ],
   "source": [
    "diab2.isna().sum()"
   ]
  },
  {
   "cell_type": "code",
   "execution_count": 17,
   "metadata": {},
   "outputs": [],
   "source": [
    "diab2drop = diab2.dropna()"
   ]
  },
  {
   "cell_type": "code",
   "execution_count": 18,
   "metadata": {},
   "outputs": [
    {
     "data": {
      "text/plain": [
       "16791"
      ]
     },
     "execution_count": 18,
     "metadata": {},
     "output_type": "execute_result"
    }
   ],
   "source": [
    "len(diab2drop)"
   ]
  },
  {
   "cell_type": "code",
   "execution_count": 19,
   "metadata": {},
   "outputs": [
    {
     "name": "stdout",
     "output_type": "stream",
     "text": [
      "0.9934   :   hospital_snf_reimb\n",
      "0.9937   :   hospital_snf_reimb_price_adj\n",
      "0.9699   :   physician_reimb\n",
      "0.9738   :   physician_reimb_price_adj\n",
      "0.9194   :   outpatient_reimb\n",
      "0.9150   :   outpatient_reimb_price_adj\n",
      "0.8209   :   home_health_reimb\n",
      "0.8198   :   home_health_reimb_price_adj\n",
      "0.8080   :   hospice_reimb\n",
      "0.8001   :   hospice_reimb_price_adj\n",
      "0.9556   :   dme_reimb\n",
      "0.9537   :   dme_reimb_price_adj\n"
     ]
    }
   ],
   "source": [
    "recolumns = ['hospital_snf_reimb',\n",
    "       'hospital_snf_reimb_price_adj', 'physician_reimb',\n",
    "       'physician_reimb_price_adj', 'outpatient_reimb',\n",
    "       'outpatient_reimb_price_adj', 'home_health_reimb',\n",
    "       'home_health_reimb_price_adj', 'hospice_reimb',\n",
    "       'hospice_reimb_price_adj', 'dme_reimb', 'dme_reimb_price_adj']\n",
    "\n",
    "X = diab2drop.drop(columns=recolumns)\n",
    "\n",
    "for col in recolumns:  \n",
    "    Y = diab2drop[col]\n",
    "    sm.add_constant(X)\n",
    "    model = sm.OLS(Y,X)\n",
    "    results = model.fit()\n",
    "    print(\"%.4f\" % results.rsquared,\"  :  \",col)"
   ]
  },
  {
   "cell_type": "code",
   "execution_count": 20,
   "metadata": {},
   "outputs": [
    {
     "name": "stdout",
     "output_type": "stream",
     "text": [
      "Results for :  hospital_snf_reimb\n",
      "MSE for training set  113031.5194064997\n",
      "MSE for test set  113899.85861643594\n",
      " \n",
      "Results for :  hospital_snf_reimb_price_adj\n",
      "MSE for training set  113546.07051706545\n",
      "MSE for test set  143870.34601396404\n",
      " \n",
      "Results for :  physician_reimb\n",
      "MSE for training set  151239.02536980683\n",
      "MSE for test set  253429.71119741327\n",
      " \n",
      "Results for :  physician_reimb_price_adj\n",
      "MSE for training set  140610.74627188896\n",
      "MSE for test set  274389.5168095504\n",
      " \n",
      "Results for :  outpatient_reimb\n",
      "MSE for training set  140803.829046468\n",
      "MSE for test set  144926.7734547878\n",
      " \n",
      "Results for :  outpatient_reimb_price_adj\n",
      "MSE for training set  165252.9857987048\n",
      "MSE for test set  166232.1223844307\n",
      " \n",
      "Results for :  home_health_reimb\n",
      "MSE for training set  68066.80542990695\n",
      "MSE for test set  89542.50485865973\n",
      " \n",
      "Results for :  home_health_reimb_price_adj\n",
      "MSE for training set  75690.14943189756\n",
      "MSE for test set  91849.25138067236\n",
      " \n",
      "Results for :  hospice_reimb\n",
      "MSE for training set  30553.507523365464\n",
      "MSE for test set  30604.39379375378\n",
      " \n",
      "Results for :  hospice_reimb_price_adj\n",
      "MSE for training set  39162.25511176794\n",
      "MSE for test set  49574.18352236835\n",
      " \n",
      "Results for :  dme_reimb\n",
      "MSE for training set  2722.2817761319197\n",
      "MSE for test set  3101.3022846368676\n",
      " \n",
      "Results for :  dme_reimb_price_adj\n",
      "MSE for training set  2747.5272353140194\n",
      "MSE for test set  2564.3224364553685\n",
      " \n"
     ]
    }
   ],
   "source": [
    "linear = LinearRegression()\n",
    "\n",
    "for col in recolumns:\n",
    "    Y = diab2drop[col]\n",
    "    X_train, X_test, y_train, y_test = train_test_split(X, Y, test_size=0.25)\n",
    "\n",
    "    # Fit your model using the training set\n",
    "    linear.fit(X_train, y_train)\n",
    "\n",
    "    # Call predict to get the predicted values for training and test set\n",
    "    train_predicted = linear.predict(X_train)\n",
    "    test_predicted = linear.predict(X_test)\n",
    "\n",
    "    # Calculate RMSE for training and test set\n",
    "    print('Results for : ',col)\n",
    "    print('MSE for training set ', mean_squared_error(y_train, train_predicted))\n",
    "    print('MSE for test set ', mean_squared_error(y_test, test_predicted))\n",
    "    print(' ')"
   ]
  },
  {
   "cell_type": "markdown",
   "metadata": {},
   "source": [
    "### Log of X and Y of new drop"
   ]
  },
  {
   "cell_type": "code",
   "execution_count": 21,
   "metadata": {},
   "outputs": [
    {
     "data": {
      "text/plain": [
       "16752"
      ]
     },
     "execution_count": 21,
     "metadata": {},
     "output_type": "execute_result"
    }
   ],
   "source": [
    "logdiab2drop = diab2drop.apply(np.log)\n",
    "logdiab2drop = logdiab2drop.dropna()\n",
    "len(logdiab2drop)"
   ]
  },
  {
   "cell_type": "code",
   "execution_count": 22,
   "metadata": {},
   "outputs": [
    {
     "name": "stdout",
     "output_type": "stream",
     "text": [
      "0.9999   :   hospital_snf_reimb\n",
      "0.9999   :   hospital_snf_reimb_price_adj\n",
      "0.9996   :   physician_reimb\n",
      "0.9997   :   physician_reimb_price_adj\n",
      "0.9988   :   outpatient_reimb\n",
      "0.9988   :   outpatient_reimb_price_adj\n",
      "0.9937   :   home_health_reimb\n",
      "0.9938   :   home_health_reimb_price_adj\n",
      "0.9916   :   hospice_reimb\n",
      "0.9916   :   hospice_reimb_price_adj\n",
      "0.9985   :   dme_reimb\n",
      "0.9985   :   dme_reimb_price_adj\n"
     ]
    }
   ],
   "source": [
    "recolumns = ['hospital_snf_reimb',\n",
    "       'hospital_snf_reimb_price_adj', 'physician_reimb',\n",
    "       'physician_reimb_price_adj', 'outpatient_reimb',\n",
    "       'outpatient_reimb_price_adj', 'home_health_reimb',\n",
    "       'home_health_reimb_price_adj', 'hospice_reimb',\n",
    "       'hospice_reimb_price_adj', 'dme_reimb', 'dme_reimb_price_adj']\n",
    "\n",
    "logX = logdiab2drop.drop(columns=recolumns)\n",
    "for col in recolumns:\n",
    "    logY = logdiab2drop[col]\n",
    "    sm.add_constant(logX)\n",
    "    model = sm.OLS(logY,logX)\n",
    "    results = model.fit()\n",
    "    print(\"%.4f\" % results.rsquared,\"  :  \",col)"
   ]
  },
  {
   "cell_type": "code",
   "execution_count": 23,
   "metadata": {},
   "outputs": [
    {
     "name": "stdout",
     "output_type": "stream",
     "text": [
      "Results for :  hospital_snf_reimb\n",
      "MSE for training set  0.005728363185607544\n",
      "MSE for test set  0.005668947192929402\n",
      "R2 Score  0.8211259843438179\n",
      " \n",
      "Results for :  hospital_snf_reimb_price_adj\n",
      "MSE for training set  0.005281199263174\n",
      "MSE for test set  0.005503803869911899\n",
      "R2 Score  0.8573850792701236\n",
      " \n",
      "Results for :  physician_reimb\n",
      "MSE for training set  0.02233614812204493\n",
      "MSE for test set  0.02157924972657459\n",
      "R2 Score  0.5993211408419505\n",
      " \n",
      "Results for :  physician_reimb_price_adj\n",
      "MSE for training set  0.019575135641846264\n",
      "MSE for test set  0.02074308331278274\n",
      "R2 Score  0.6086949100930428\n",
      " \n",
      "Results for :  outpatient_reimb\n",
      "MSE for training set  0.04372060594788093\n",
      "MSE for test set  0.04402187272021064\n",
      "R2 Score  0.5227590859060196\n",
      " \n",
      "Results for :  outpatient_reimb_price_adj\n",
      "MSE for training set  0.04655621737987497\n",
      "MSE for test set  0.04617495627297644\n",
      "R2 Score  0.5283242758035396\n",
      " \n",
      "Results for :  home_health_reimb\n",
      "MSE for training set  0.21922523683539064\n",
      "MSE for test set  0.22100595879412918\n",
      "R2 Score  0.5315457029443476\n",
      " \n",
      "Results for :  home_health_reimb_price_adj\n",
      "MSE for training set  0.22163286444226518\n",
      "MSE for test set  0.21409165903518518\n",
      "R2 Score  0.5506956749638773\n",
      " \n",
      "Results for :  hospice_reimb\n",
      "MSE for training set  0.2667433659377301\n",
      "MSE for test set  0.2695448792938625\n",
      "R2 Score  0.24727672392453992\n",
      " \n",
      "Results for :  hospice_reimb_price_adj\n",
      "MSE for training set  0.27785413744348975\n",
      "MSE for test set  0.26209461639736786\n",
      "R2 Score  0.27564609620890557\n",
      " \n",
      "Results for :  dme_reimb\n",
      "MSE for training set  0.03784397593311266\n",
      "MSE for test set  0.03608055359228943\n",
      "R2 Score  0.4436422905718015\n",
      " \n",
      "Results for :  dme_reimb_price_adj\n",
      "MSE for training set  0.037217633498239644\n",
      "MSE for test set  0.03758830220685048\n",
      "R2 Score  0.4554477839237442\n",
      " \n"
     ]
    }
   ],
   "source": [
    "linear = LinearRegression()\n",
    "\n",
    "for col in recolumns:\n",
    "    logY = logdiab2drop[col]\n",
    "    X_train, X_test, y_train, y_test = train_test_split(logX, logY, test_size=0.25)\n",
    "\n",
    "    # Fit your model using the training set\n",
    "    linear.fit(X_train, y_train)\n",
    "\n",
    "    # Call predict to get the predicted values for training and test set\n",
    "    train_predicted = linear.predict(X_train)\n",
    "    test_predicted = linear.predict(X_test)\n",
    "\n",
    "    # Calculate MSE for training and test set\n",
    "    print('Results for : ',col)\n",
    "    print('MSE for training set ', mean_squared_error(y_train, train_predicted))\n",
    "    print('MSE for test set ', mean_squared_error(y_test, test_predicted))\n",
    "    print('R2 Score ', r2_score(y_test, test_predicted))\n",
    "    print(' ')"
   ]
  },
  {
   "cell_type": "code",
   "execution_count": 24,
   "metadata": {},
   "outputs": [
    {
     "data": {
      "text/plain": [
       "Text(0,0.5,'y_predicted')"
      ]
     },
     "execution_count": 24,
     "metadata": {},
     "output_type": "execute_result"
    },
    {
     "data": {
      "image/png": "[encoded data removed]",
      "text/plain": [
       "<Figure size 432x288 with 1 Axes>"
      ]
     },
     "metadata": {},
     "output_type": "display_data"
    }
   ],
   "source": [
    "linear = LinearRegression()\n",
    "\n",
    "logY = logdiab2drop['hospital_snf_reimb_price_adj']\n",
    "X_train, X_test, y_train, y_test = train_test_split(logX, logY, test_size=0.25)\n",
    "\n",
    "# Fit your model using the training set\n",
    "linear.fit(X_train, y_train)\n",
    "\n",
    "# Call predict to get the predicted values for training and test set\n",
    "train_predicted = linear.predict(X_train)\n",
    "test_predicted = linear.predict(X_test)\n",
    "\n",
    "plt.scatter(y_test,test_predicted, color='k', s=20)\n",
    "plt.title('hospital_snf_reimb')\n",
    "plt.xlabel('y_test')\n",
    "plt.ylabel('y_predicted')"
   ]
  },
  {
   "cell_type": "markdown",
   "metadata": {},
   "source": [
    "### Reducing Training Data\n",
    "Making training data smaller and should reduce statistical values to help validate lack of data linkage "
   ]
  },
  {
   "cell_type": "code",
   "execution_count": 25,
   "metadata": {},
   "outputs": [
    {
     "data": {
      "image/png": "[encoded data removed]",
      "text/plain": [
       "<Figure size 432x288 with 1 Axes>"
      ]
     },
     "metadata": {},
     "output_type": "display_data"
    }
   ],
   "source": [
    "linear = LinearRegression()\n",
    "r2scores=[]\n",
    "logY = logdiab2drop['hospital_snf_reimb_price_adj']\n",
    "\n",
    "for i in np.linspace(0.1,0.9,10):\n",
    "    X_train, X_test, y_train, y_test = train_test_split(logX, logY, test_size=i)\n",
    "\n",
    "    # Fit your model using the training set\n",
    "    linear.fit(X_train, y_train)\n",
    "\n",
    "    # Call predict to get the predicted values for training and test set\n",
    "    train_predicted = linear.predict(X_train)\n",
    "    test_predicted = linear.predict(X_test)\n",
    "\n",
    "    r2scores.append(r2_score(y_test, test_predicted))\n",
    "    \n",
    "plt.plot(np.linspace(0.1,0.9,10),r2scores)\n",
    "plt.xlabel('n')\n",
    "plt.ylabel('r2')\n",
    "plt.title('average test r2 vs % test size');"
   ]
  },
  {
   "cell_type": "markdown",
   "metadata": {},
   "source": [
    "### K-Fold Cross Validation"
   ]
  },
  {
   "cell_type": "code",
   "execution_count": 26,
   "metadata": {},
   "outputs": [],
   "source": [
    "def my_cross_val_score(X_data, y_data, num_folds=3):\n",
    "    ''' Returns error for k-fold cross validation. '''\n",
    "    kf = KFold(n_splits=num_folds)\n",
    "    error = np.empty(num_folds)\n",
    "    index = 0\n",
    "    linear = LinearRegression()\n",
    "    for train, test in kf.split(X_data):\n",
    "        linear.fit(X_data.iloc[train], y_data.iloc[train])\n",
    "        pred = linear.predict(X_data.iloc[test])\n",
    "        error[index] = mean_squared_error(pred, y_data.iloc[test])\n",
    "        index += 1\n",
    "    return np.mean(error)"
   ]
  },
  {
   "cell_type": "code",
   "execution_count": 27,
   "metadata": {},
   "outputs": [],
   "source": [
    "# Varying number of k-folds\n",
    "cv_scores = []\n",
    "for k in range(2,51):\n",
    "    cv_score = my_cross_val_score(logX, logY, num_folds=k)\n",
    "    cv_scores.append(cv_score)"
   ]
  },
  {
   "cell_type": "code",
   "execution_count": 28,
   "metadata": {},
   "outputs": [
    {
     "data": {
      "image/png": "[encoded data removed]",
      "text/plain": [
       "<Figure size 432x288 with 1 Axes>"
      ]
     },
     "metadata": {},
     "output_type": "display_data"
    }
   ],
   "source": [
    "plt.plot(cv_scores)\n",
    "plt.xlabel('k')\n",
    "plt.ylabel('mse')\n",
    "plt.title('average test mse vs # of folds k');"
   ]
  },
  {
   "cell_type": "markdown",
   "metadata": {},
   "source": [
    "### Feature Engineering\n",
    "Making the model more accurate"
   ]
  },
  {
   "cell_type": "code",
   "execution_count": 55,
   "metadata": {},
   "outputs": [],
   "source": [
    "#Get coeficient values at each K fold\n",
    "def my_coef(X_data, y_data, num_folds=3):\n",
    "    df = pd.DataFrame(columns = list(X_data.columns))\n",
    "    kf = KFold(n_splits=num_folds)\n",
    "    index = 0\n",
    "    linear = LinearRegression()\n",
    "    for train, test in kf.split(X_data):\n",
    "        linear.fit(X_data.iloc[train], y_data.iloc[train])\n",
    "        df=df.append(pd.Series(list(linear.coef_), index=df.columns), ignore_index=True)\n",
    "        index += 1\n",
    "    return df"
   ]
  },
  {
   "cell_type": "code",
   "execution_count": 60,
   "metadata": {},
   "outputs": [],
   "source": [
    "# Varying number of k-folds\n",
    "cfdf = pd.DataFrame(columns = list(logX.columns))\n",
    "for k in range(5,51):\n",
    "    cf = my_coef(logX, logY, num_folds=k)\n",
    "    cfdf = pd.concat([cfdf, cf], ignore_index=True)"
   ]
  },
  {
   "cell_type": "code",
   "execution_count": 68,
   "metadata": {},
   "outputs": [],
   "source": [
    "from sklearn.preprocessing import StandardScaler\n",
    "scaled_features = StandardScaler().fit_transform(cfdf.values)\n",
    "scaled_features_df = pd.DataFrame(scaled_features, index=cfdf.index, columns=cfdf.columns)"
   ]
  },
  {
   "cell_type": "code",
   "execution_count": 71,
   "metadata": {},
   "outputs": [
    {
     "data": {
      "text/plain": [
       "(1265, 13)"
      ]
     },
     "execution_count": 71,
     "metadata": {},
     "output_type": "execute_result"
    }
   ],
   "source": [
    "cfdf.shape"
   ]
  },
  {
   "cell_type": "code",
   "execution_count": 72,
   "metadata": {},
   "outputs": [
    {
     "data": {
      "text/plain": [
       "(1265, 13)"
      ]
     },
     "execution_count": 72,
     "metadata": {},
     "output_type": "execute_result"
    }
   ],
   "source": [
    "scaled_features_df.shape"
   ]
  },
  {
   "cell_type": "code",
   "execution_count": 75,
   "metadata": {},
   "outputs": [
    {
     "data": {
      "text/plain": [
       "<matplotlib.axes._subplots.AxesSubplot at 0x7f7449a53f60>"
      ]
     },
     "execution_count": 75,
     "metadata": {},
     "output_type": "execute_result"
    },
    {
     "data": {
      "image/png": "[encoded data removed]",
      "text/plain": [
       "<Figure size 864x864 with 1 Axes>"
      ]
     },
     "metadata": {},
     "output_type": "display_data"
    }
   ],
   "source": [
    "scaled_features_df.boxplot(figsize=(12,12),rot=90)"
   ]
  },
  {
   "cell_type": "markdown",
   "metadata": {},
   "source": [
    "### New Data Online"
   ]
  },
  {
   "cell_type": "code",
   "execution_count": null,
   "metadata": {},
   "outputs": [],
   "source": []
  },
  {
   "cell_type": "markdown",
   "metadata": {},
   "source": [
    "### Uncontrolled Diabetes \n",
    "How does a uncontrolled diabetic population effect medicare?"
   ]
  }
 ],
 "metadata": {
  "kernelspec": {
   "display_name": "Python 3",
   "language": "python",
   "name": "python3"
  },
  "language_info": {
   "codemirror_mode": {
    "name": "ipython",
    "version": 3
   },
   "file_extension": ".py",
   "mimetype": "text/x-python",
   "name": "python",
   "nbconvert_exporter": "python",
   "pygments_lexer": "ipython3",
   "version": "3.6.5"
  }
 },
 "nbformat": 4,
 "nbformat_minor": 2
}
